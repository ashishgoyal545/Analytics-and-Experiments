{
 "cells": [
  {
   "cell_type": "markdown",
   "metadata": {},
   "source": [
    "# Funnel Analysis (Example)\n",
    "\n",
    "Quick analysis on mock funnel data to demonstrate PM analytics thinking."
   ]
  },
  {
   "cell_type": "code",
   "execution_count": null,
   "metadata": {},
   "outputs": [],
   "source": [
    "import pandas as pd\n",
    "df = pd.read_csv('funnel_example.csv')\n",
    "df['dropoff'] = df['users'].shift(1) - df['users']\n",
    "df['conv_rate'] = (df['users'] / df['users'].shift(1)).round(3)\n",
    "df"
   ]
  },
  {
   "cell_type": "code",
   "execution_count": null,
   "metadata": {},
   "outputs": [],
   "source": [
    "import matplotlib.pyplot as plt\n",
    "plt.figure()\n",
    "plt.plot(df['stage'], df['users'], marker='o')\n",
    "plt.title('Funnel Users by Stage')\n",
    "plt.xlabel('Stage')\n",
    "plt.ylabel('Users')\n",
    "plt.xticks(rotation=30)\n",
    "plt.tight_layout()\n",
    "plt.show()"
   ]
  }
 ],
 "metadata": {
  "kernelspec": {
   "display_name": "Python 3",
   "language": "python",
   "name": "python3"
  },
  "language_info": {
   "name": "python",
   "version": "3.10"
  }
 },
 "nbformat": 4,
 "nbformat_minor": 5
}
